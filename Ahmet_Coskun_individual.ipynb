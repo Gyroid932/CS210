{
 "cells": [
  {
   "cell_type": "markdown",
   "metadata": {},
   "source": [
    "Ahmet İmran Coşkun 19548"
   ]
  },
  {
   "cell_type": "code",
   "execution_count": 1,
   "metadata": {},
   "outputs": [],
   "source": [
    "import pandas as pd\n",
    "import numpy as np\n",
    "import matplotlib.pyplot as plt\n",
    "from scipy import stats\n",
    "from datetime import datetime\n",
    "import seaborn as sns\n",
    "from datetime import datetime\n",
    "import reverse_geocoder as rg\n",
    "from geopy.distance import geodesic\n",
    "import io\n",
    "import pprint\n",
    "import warnings\n",
    "from geopy.distance import lonlat, distance\n",
    "import dateutil\n",
    "warnings.filterwarnings('ignore')\n",
    "\n",
    "sns.set(style=\"darkgrid\")\n",
    "\n",
    "%matplotlib inline"
   ]
  },
  {
   "cell_type": "code",
   "execution_count": 2,
   "metadata": {},
   "outputs": [],
   "source": [
    "from os.path import join\n",
    "from pprint import pprint"
   ]
  },
  {
   "cell_type": "code",
   "execution_count": 3,
   "metadata": {},
   "outputs": [],
   "source": [
    "d_path = \"C:\\\\Users\\Ahmet Coskun\\Desktop\\CS 210\"\n",
    "filename = \"taxi-trips.csv\"\n",
    "\n",
    "df = pd.read_csv(join(d_path, filename))"
   ]
  },
  {
   "cell_type": "code",
   "execution_count": 4,
   "metadata": {},
   "outputs": [
    {
     "data": {
      "text/html": [
       "<div>\n",
       "<style scoped>\n",
       "    .dataframe tbody tr th:only-of-type {\n",
       "        vertical-align: middle;\n",
       "    }\n",
       "\n",
       "    .dataframe tbody tr th {\n",
       "        vertical-align: top;\n",
       "    }\n",
       "\n",
       "    .dataframe thead th {\n",
       "        text-align: right;\n",
       "    }\n",
       "</style>\n",
       "<table border=\"1\" class=\"dataframe\">\n",
       "  <thead>\n",
       "    <tr style=\"text-align: right;\">\n",
       "      <th></th>\n",
       "      <th>id</th>\n",
       "      <th>vendor_id</th>\n",
       "      <th>pickup_datetime</th>\n",
       "      <th>dropoff_datetime</th>\n",
       "      <th>passenger_count</th>\n",
       "      <th>pickup_longitude</th>\n",
       "      <th>pickup_latitude</th>\n",
       "      <th>dropoff_longitude</th>\n",
       "      <th>dropoff_latitude</th>\n",
       "      <th>store_and_fwd_flag</th>\n",
       "      <th>trip_duration</th>\n",
       "    </tr>\n",
       "  </thead>\n",
       "  <tbody>\n",
       "    <tr>\n",
       "      <th>0</th>\n",
       "      <td>id2875421</td>\n",
       "      <td>2</td>\n",
       "      <td>3/14/2016 17:24</td>\n",
       "      <td>3/14/2016 17:32</td>\n",
       "      <td>1</td>\n",
       "      <td>-73.982155</td>\n",
       "      <td>40.767937</td>\n",
       "      <td>-73.964630</td>\n",
       "      <td>40.765602</td>\n",
       "      <td>N</td>\n",
       "      <td>455</td>\n",
       "    </tr>\n",
       "    <tr>\n",
       "      <th>1</th>\n",
       "      <td>id0012891</td>\n",
       "      <td>2</td>\n",
       "      <td>3/10/2016 21:45</td>\n",
       "      <td>3/10/2016 22:05</td>\n",
       "      <td>1</td>\n",
       "      <td>-73.981049</td>\n",
       "      <td>40.744339</td>\n",
       "      <td>-73.973000</td>\n",
       "      <td>40.789989</td>\n",
       "      <td>N</td>\n",
       "      <td>1225</td>\n",
       "    </tr>\n",
       "    <tr>\n",
       "      <th>2</th>\n",
       "      <td>id3361153</td>\n",
       "      <td>1</td>\n",
       "      <td>3/11/2016 7:11</td>\n",
       "      <td>3/11/2016 7:20</td>\n",
       "      <td>1</td>\n",
       "      <td>-73.994560</td>\n",
       "      <td>40.750526</td>\n",
       "      <td>-73.978500</td>\n",
       "      <td>40.756191</td>\n",
       "      <td>N</td>\n",
       "      <td>526</td>\n",
       "    </tr>\n",
       "    <tr>\n",
       "      <th>3</th>\n",
       "      <td>id2129090</td>\n",
       "      <td>1</td>\n",
       "      <td>3/14/2016 14:05</td>\n",
       "      <td>3/14/2016 14:28</td>\n",
       "      <td>1</td>\n",
       "      <td>-73.975090</td>\n",
       "      <td>40.758766</td>\n",
       "      <td>-73.953201</td>\n",
       "      <td>40.765068</td>\n",
       "      <td>N</td>\n",
       "      <td>1346</td>\n",
       "    </tr>\n",
       "    <tr>\n",
       "      <th>4</th>\n",
       "      <td>id0256505</td>\n",
       "      <td>1</td>\n",
       "      <td>3/14/2016 15:04</td>\n",
       "      <td>3/14/2016 15:16</td>\n",
       "      <td>1</td>\n",
       "      <td>-73.994484</td>\n",
       "      <td>40.745087</td>\n",
       "      <td>-73.998993</td>\n",
       "      <td>40.722710</td>\n",
       "      <td>N</td>\n",
       "      <td>695</td>\n",
       "    </tr>\n",
       "  </tbody>\n",
       "</table>\n",
       "</div>"
      ],
      "text/plain": [
       "          id  vendor_id  pickup_datetime dropoff_datetime  passenger_count  \\\n",
       "0  id2875421          2  3/14/2016 17:24  3/14/2016 17:32                1   \n",
       "1  id0012891          2  3/10/2016 21:45  3/10/2016 22:05                1   \n",
       "2  id3361153          1   3/11/2016 7:11   3/11/2016 7:20                1   \n",
       "3  id2129090          1  3/14/2016 14:05  3/14/2016 14:28                1   \n",
       "4  id0256505          1  3/14/2016 15:04  3/14/2016 15:16                1   \n",
       "\n",
       "   pickup_longitude  pickup_latitude  dropoff_longitude  dropoff_latitude  \\\n",
       "0        -73.982155        40.767937         -73.964630         40.765602   \n",
       "1        -73.981049        40.744339         -73.973000         40.789989   \n",
       "2        -73.994560        40.750526         -73.978500         40.756191   \n",
       "3        -73.975090        40.758766         -73.953201         40.765068   \n",
       "4        -73.994484        40.745087         -73.998993         40.722710   \n",
       "\n",
       "  store_and_fwd_flag  trip_duration  \n",
       "0                  N            455  \n",
       "1                  N           1225  \n",
       "2                  N            526  \n",
       "3                  N           1346  \n",
       "4                  N            695  "
      ]
     },
     "execution_count": 4,
     "metadata": {},
     "output_type": "execute_result"
    }
   ],
   "source": [
    "df.head()"
   ]
  },
  {
   "cell_type": "code",
   "execution_count": 5,
   "metadata": {},
   "outputs": [
    {
     "data": {
      "text/plain": [
       "id                     object\n",
       "vendor_id               int64\n",
       "pickup_datetime        object\n",
       "dropoff_datetime       object\n",
       "passenger_count         int64\n",
       "pickup_longitude      float64\n",
       "pickup_latitude       float64\n",
       "dropoff_longitude     float64\n",
       "dropoff_latitude      float64\n",
       "store_and_fwd_flag     object\n",
       "trip_duration           int64\n",
       "dtype: object"
      ]
     },
     "execution_count": 5,
     "metadata": {},
     "output_type": "execute_result"
    }
   ],
   "source": [
    "df.dtypes"
   ]
  },
  {
   "cell_type": "code",
   "execution_count": 6,
   "metadata": {},
   "outputs": [
    {
     "data": {
      "text/plain": [
       "id                    0\n",
       "vendor_id             0\n",
       "pickup_datetime       0\n",
       "dropoff_datetime      0\n",
       "passenger_count       0\n",
       "pickup_longitude      0\n",
       "pickup_latitude       0\n",
       "dropoff_longitude     0\n",
       "dropoff_latitude      0\n",
       "store_and_fwd_flag    0\n",
       "trip_duration         0\n",
       "dtype: int64"
      ]
     },
     "execution_count": 6,
     "metadata": {},
     "output_type": "execute_result"
    }
   ],
   "source": [
    "df.isnull().sum() #no null data"
   ]
  },
  {
   "cell_type": "code",
   "execution_count": 7,
   "metadata": {},
   "outputs": [
    {
     "data": {
      "text/html": [
       "<div>\n",
       "<style scoped>\n",
       "    .dataframe tbody tr th:only-of-type {\n",
       "        vertical-align: middle;\n",
       "    }\n",
       "\n",
       "    .dataframe tbody tr th {\n",
       "        vertical-align: top;\n",
       "    }\n",
       "\n",
       "    .dataframe thead th {\n",
       "        text-align: right;\n",
       "    }\n",
       "</style>\n",
       "<table border=\"1\" class=\"dataframe\">\n",
       "  <thead>\n",
       "    <tr style=\"text-align: right;\">\n",
       "      <th></th>\n",
       "      <th>vendor_id</th>\n",
       "      <th>passenger_count</th>\n",
       "      <th>pickup_longitude</th>\n",
       "      <th>pickup_latitude</th>\n",
       "      <th>dropoff_longitude</th>\n",
       "      <th>dropoff_latitude</th>\n",
       "      <th>trip_duration</th>\n",
       "    </tr>\n",
       "  </thead>\n",
       "  <tbody>\n",
       "    <tr>\n",
       "      <th>count</th>\n",
       "      <td>118185.000000</td>\n",
       "      <td>118185.000000</td>\n",
       "      <td>118185.000000</td>\n",
       "      <td>118185.000000</td>\n",
       "      <td>118185.000000</td>\n",
       "      <td>118185.000000</td>\n",
       "      <td>118185.000000</td>\n",
       "    </tr>\n",
       "    <tr>\n",
       "      <th>mean</th>\n",
       "      <td>1.534958</td>\n",
       "      <td>1.657148</td>\n",
       "      <td>-73.973971</td>\n",
       "      <td>40.751392</td>\n",
       "      <td>-73.973538</td>\n",
       "      <td>40.752212</td>\n",
       "      <td>927.186310</td>\n",
       "    </tr>\n",
       "    <tr>\n",
       "      <th>std</th>\n",
       "      <td>0.498779</td>\n",
       "      <td>1.313844</td>\n",
       "      <td>0.040456</td>\n",
       "      <td>0.027958</td>\n",
       "      <td>0.039192</td>\n",
       "      <td>0.032284</td>\n",
       "      <td>3118.710246</td>\n",
       "    </tr>\n",
       "    <tr>\n",
       "      <th>min</th>\n",
       "      <td>1.000000</td>\n",
       "      <td>0.000000</td>\n",
       "      <td>-79.487900</td>\n",
       "      <td>40.225803</td>\n",
       "      <td>-79.487900</td>\n",
       "      <td>40.225800</td>\n",
       "      <td>1.000000</td>\n",
       "    </tr>\n",
       "    <tr>\n",
       "      <th>25%</th>\n",
       "      <td>1.000000</td>\n",
       "      <td>1.000000</td>\n",
       "      <td>-73.991875</td>\n",
       "      <td>40.737835</td>\n",
       "      <td>-73.991394</td>\n",
       "      <td>40.736462</td>\n",
       "      <td>393.000000</td>\n",
       "    </tr>\n",
       "    <tr>\n",
       "      <th>50%</th>\n",
       "      <td>2.000000</td>\n",
       "      <td>1.000000</td>\n",
       "      <td>-73.981796</td>\n",
       "      <td>40.754501</td>\n",
       "      <td>-73.979759</td>\n",
       "      <td>40.754848</td>\n",
       "      <td>652.000000</td>\n",
       "    </tr>\n",
       "    <tr>\n",
       "      <th>75%</th>\n",
       "      <td>2.000000</td>\n",
       "      <td>2.000000</td>\n",
       "      <td>-73.967575</td>\n",
       "      <td>40.768471</td>\n",
       "      <td>-73.962990</td>\n",
       "      <td>40.770077</td>\n",
       "      <td>1048.000000</td>\n",
       "    </tr>\n",
       "    <tr>\n",
       "      <th>max</th>\n",
       "      <td>2.000000</td>\n",
       "      <td>6.000000</td>\n",
       "      <td>-73.425018</td>\n",
       "      <td>41.292198</td>\n",
       "      <td>-73.055977</td>\n",
       "      <td>41.292198</td>\n",
       "      <td>86366.000000</td>\n",
       "    </tr>\n",
       "  </tbody>\n",
       "</table>\n",
       "</div>"
      ],
      "text/plain": [
       "           vendor_id  passenger_count  pickup_longitude  pickup_latitude  \\\n",
       "count  118185.000000    118185.000000     118185.000000    118185.000000   \n",
       "mean        1.534958         1.657148        -73.973971        40.751392   \n",
       "std         0.498779         1.313844          0.040456         0.027958   \n",
       "min         1.000000         0.000000        -79.487900        40.225803   \n",
       "25%         1.000000         1.000000        -73.991875        40.737835   \n",
       "50%         2.000000         1.000000        -73.981796        40.754501   \n",
       "75%         2.000000         2.000000        -73.967575        40.768471   \n",
       "max         2.000000         6.000000        -73.425018        41.292198   \n",
       "\n",
       "       dropoff_longitude  dropoff_latitude  trip_duration  \n",
       "count      118185.000000     118185.000000  118185.000000  \n",
       "mean          -73.973538         40.752212     927.186310  \n",
       "std             0.039192          0.032284    3118.710246  \n",
       "min           -79.487900         40.225800       1.000000  \n",
       "25%           -73.991394         40.736462     393.000000  \n",
       "50%           -73.979759         40.754848     652.000000  \n",
       "75%           -73.962990         40.770077    1048.000000  \n",
       "max           -73.055977         41.292198   86366.000000  "
      ]
     },
     "execution_count": 7,
     "metadata": {},
     "output_type": "execute_result"
    }
   ],
   "source": [
    "df.describe()"
   ]
  },
  {
   "cell_type": "code",
   "execution_count": 8,
   "metadata": {},
   "outputs": [
    {
     "data": {
      "text/plain": [
       "count    118185.000000\n",
       "mean          1.657148\n",
       "std           1.313844\n",
       "min           0.000000\n",
       "25%           1.000000\n",
       "50%           1.000000\n",
       "75%           2.000000\n",
       "max           6.000000\n",
       "Name: passenger_count, dtype: float64"
      ]
     },
     "execution_count": 8,
     "metadata": {},
     "output_type": "execute_result"
    }
   ],
   "source": [
    "df[\"passenger_count\"].describe()"
   ]
  },
  {
   "cell_type": "code",
   "execution_count": 9,
   "metadata": {},
   "outputs": [
    {
     "data": {
      "text/plain": [
       "count    118185.000000\n",
       "mean        927.186310\n",
       "std        3118.710246\n",
       "min           1.000000\n",
       "25%         393.000000\n",
       "50%         652.000000\n",
       "75%        1048.000000\n",
       "max       86366.000000\n",
       "Name: trip_duration, dtype: float64"
      ]
     },
     "execution_count": 9,
     "metadata": {},
     "output_type": "execute_result"
    }
   ],
   "source": [
    "df[\"trip_duration\"].describe()"
   ]
  },
  {
   "cell_type": "code",
   "execution_count": 10,
   "metadata": {},
   "outputs": [
    {
     "data": {
      "image/png": "[encoded data removed]",
      "text/plain": [
       "<Figure size 432x288 with 1 Axes>"
      ]
     },
     "metadata": {
      "needs_background": "light"
     },
     "output_type": "display_data"
    }
   ],
   "source": [
    "sns.distplot(df[\"passenger_count\"].values, norm_hist=True)  \n",
    "plt.show()"
   ]
  },
  {
   "cell_type": "code",
   "execution_count": 11,
   "metadata": {},
   "outputs": [
    {
     "data": {
      "image/png": "[encoded data removed]",
      "text/plain": [
       "<Figure size 432x288 with 1 Axes>"
      ]
     },
     "metadata": {
      "needs_background": "light"
     },
     "output_type": "display_data"
    }
   ],
   "source": [
    "sns.distplot(df[\"trip_duration\"].values, norm_hist=True)  \n",
    "plt.show()"
   ]
  },
  {
   "cell_type": "code",
   "execution_count": 12,
   "metadata": {},
   "outputs": [
    {
     "name": "stdout",
     "output_type": "stream",
     "text": [
      "Loading formatted geocoded file...\n"
     ]
    }
   ],
   "source": [
    "tuples = tuple(zip(df[\"pickup_latitude\"],df[\"pickup_longitude\"]))\n",
    "results = rg.search(tuples)"
   ]
  },
  {
   "cell_type": "code",
   "execution_count": 13,
   "metadata": {},
   "outputs": [],
   "source": [
    "df2 = pd.DataFrame(results)"
   ]
  },
  {
   "cell_type": "code",
   "execution_count": 14,
   "metadata": {},
   "outputs": [],
   "source": [
    "df[\"pickup_district\"] = df2[\"name\"]"
   ]
  },
  {
   "cell_type": "code",
   "execution_count": 15,
   "metadata": {},
   "outputs": [],
   "source": [
    "tuples2 = tuple(zip(df[\"dropoff_latitude\"],df[\"dropoff_longitude\"]))\n",
    "results2 = rg.search(tuples2)\n",
    "df3 = pd.DataFrame(results2)"
   ]
  },
  {
   "cell_type": "code",
   "execution_count": 16,
   "metadata": {},
   "outputs": [],
   "source": [
    "df[\"dropoff_district\"] = df3[\"name\"]"
   ]
  },
  {
   "cell_type": "code",
   "execution_count": 17,
   "metadata": {},
   "outputs": [
    {
     "data": {
      "text/html": [
       "<div>\n",
       "<style scoped>\n",
       "    .dataframe tbody tr th:only-of-type {\n",
       "        vertical-align: middle;\n",
       "    }\n",
       "\n",
       "    .dataframe tbody tr th {\n",
       "        vertical-align: top;\n",
       "    }\n",
       "\n",
       "    .dataframe thead th {\n",
       "        text-align: right;\n",
       "    }\n",
       "</style>\n",
       "<table border=\"1\" class=\"dataframe\">\n",
       "  <thead>\n",
       "    <tr style=\"text-align: right;\">\n",
       "      <th></th>\n",
       "      <th>id</th>\n",
       "      <th>vendor_id</th>\n",
       "      <th>pickup_datetime</th>\n",
       "      <th>dropoff_datetime</th>\n",
       "      <th>passenger_count</th>\n",
       "      <th>pickup_longitude</th>\n",
       "      <th>pickup_latitude</th>\n",
       "      <th>dropoff_longitude</th>\n",
       "      <th>dropoff_latitude</th>\n",
       "      <th>store_and_fwd_flag</th>\n",
       "      <th>trip_duration</th>\n",
       "      <th>pickup_district</th>\n",
       "      <th>dropoff_district</th>\n",
       "    </tr>\n",
       "  </thead>\n",
       "  <tbody>\n",
       "    <tr>\n",
       "      <th>0</th>\n",
       "      <td>id2875421</td>\n",
       "      <td>2</td>\n",
       "      <td>3/14/2016 17:24</td>\n",
       "      <td>3/14/2016 17:32</td>\n",
       "      <td>1</td>\n",
       "      <td>-73.982155</td>\n",
       "      <td>40.767937</td>\n",
       "      <td>-73.964630</td>\n",
       "      <td>40.765602</td>\n",
       "      <td>N</td>\n",
       "      <td>455</td>\n",
       "      <td>Manhattan</td>\n",
       "      <td>Manhattan</td>\n",
       "    </tr>\n",
       "    <tr>\n",
       "      <th>1</th>\n",
       "      <td>id0012891</td>\n",
       "      <td>2</td>\n",
       "      <td>3/10/2016 21:45</td>\n",
       "      <td>3/10/2016 22:05</td>\n",
       "      <td>1</td>\n",
       "      <td>-73.981049</td>\n",
       "      <td>40.744339</td>\n",
       "      <td>-73.973000</td>\n",
       "      <td>40.789989</td>\n",
       "      <td>N</td>\n",
       "      <td>1225</td>\n",
       "      <td>Long Island City</td>\n",
       "      <td>Manhattan</td>\n",
       "    </tr>\n",
       "    <tr>\n",
       "      <th>2</th>\n",
       "      <td>id3361153</td>\n",
       "      <td>1</td>\n",
       "      <td>3/11/2016 7:11</td>\n",
       "      <td>3/11/2016 7:20</td>\n",
       "      <td>1</td>\n",
       "      <td>-73.994560</td>\n",
       "      <td>40.750526</td>\n",
       "      <td>-73.978500</td>\n",
       "      <td>40.756191</td>\n",
       "      <td>N</td>\n",
       "      <td>526</td>\n",
       "      <td>Weehawken</td>\n",
       "      <td>Manhattan</td>\n",
       "    </tr>\n",
       "    <tr>\n",
       "      <th>3</th>\n",
       "      <td>id2129090</td>\n",
       "      <td>1</td>\n",
       "      <td>3/14/2016 14:05</td>\n",
       "      <td>3/14/2016 14:28</td>\n",
       "      <td>1</td>\n",
       "      <td>-73.975090</td>\n",
       "      <td>40.758766</td>\n",
       "      <td>-73.953201</td>\n",
       "      <td>40.765068</td>\n",
       "      <td>N</td>\n",
       "      <td>1346</td>\n",
       "      <td>Manhattan</td>\n",
       "      <td>Long Island City</td>\n",
       "    </tr>\n",
       "    <tr>\n",
       "      <th>4</th>\n",
       "      <td>id0256505</td>\n",
       "      <td>1</td>\n",
       "      <td>3/14/2016 15:04</td>\n",
       "      <td>3/14/2016 15:16</td>\n",
       "      <td>1</td>\n",
       "      <td>-73.994484</td>\n",
       "      <td>40.745087</td>\n",
       "      <td>-73.998993</td>\n",
       "      <td>40.722710</td>\n",
       "      <td>N</td>\n",
       "      <td>695</td>\n",
       "      <td>New York City</td>\n",
       "      <td>New York City</td>\n",
       "    </tr>\n",
       "  </tbody>\n",
       "</table>\n",
       "</div>"
      ],
      "text/plain": [
       "          id  vendor_id  pickup_datetime dropoff_datetime  passenger_count  \\\n",
       "0  id2875421          2  3/14/2016 17:24  3/14/2016 17:32                1   \n",
       "1  id0012891          2  3/10/2016 21:45  3/10/2016 22:05                1   \n",
       "2  id3361153          1   3/11/2016 7:11   3/11/2016 7:20                1   \n",
       "3  id2129090          1  3/14/2016 14:05  3/14/2016 14:28                1   \n",
       "4  id0256505          1  3/14/2016 15:04  3/14/2016 15:16                1   \n",
       "\n",
       "   pickup_longitude  pickup_latitude  dropoff_longitude  dropoff_latitude  \\\n",
       "0        -73.982155        40.767937         -73.964630         40.765602   \n",
       "1        -73.981049        40.744339         -73.973000         40.789989   \n",
       "2        -73.994560        40.750526         -73.978500         40.756191   \n",
       "3        -73.975090        40.758766         -73.953201         40.765068   \n",
       "4        -73.994484        40.745087         -73.998993         40.722710   \n",
       "\n",
       "  store_and_fwd_flag  trip_duration   pickup_district  dropoff_district  \n",
       "0                  N            455         Manhattan         Manhattan  \n",
       "1                  N           1225  Long Island City         Manhattan  \n",
       "2                  N            526         Weehawken         Manhattan  \n",
       "3                  N           1346         Manhattan  Long Island City  \n",
       "4                  N            695     New York City     New York City  "
      ]
     },
     "execution_count": 17,
     "metadata": {},
     "output_type": "execute_result"
    }
   ],
   "source": [
    "df.head()"
   ]
  },
  {
   "cell_type": "code",
   "execution_count": 18,
   "metadata": {},
   "outputs": [
    {
     "name": "stdout",
     "output_type": "stream",
     "text": [
      "pickup_district\n",
      "Manhattan           45329\n",
      "New York City       34625\n",
      "Long Island City    17787\n",
      "Weehawken           11334\n",
      "The Bronx            2777\n",
      "Name: id, dtype: int64\n"
     ]
    },
    {
     "data": {
      "text/plain": [
       "<matplotlib.axes._subplots.AxesSubplot at 0x19e0410a8d0>"
      ]
     },
     "execution_count": 18,
     "metadata": {},
     "output_type": "execute_result"
    },
    {
     "data": {
      "image/png": "[encoded data removed]",
      "text/plain": [
       "<Figure size 432x288 with 1 Axes>"
      ]
     },
     "metadata": {
      "needs_background": "light"
     },
     "output_type": "display_data"
    }
   ],
   "source": [
    "top5pickupdistricts = df.groupby(by=\"pickup_district\").count()[\"id\"].sort_values(ascending=False)[:5]\n",
    "print(top5pickupdistricts)\n",
    "top5pickupdistricts.plot(kind=\"bar\")"
   ]
  },
  {
   "cell_type": "code",
   "execution_count": 19,
   "metadata": {},
   "outputs": [
    {
     "name": "stdout",
     "output_type": "stream",
     "text": [
      "dropoff_district\n",
      "Manhattan           44478\n",
      "New York City       31082\n",
      "Long Island City    19919\n",
      "Weehawken           10621\n",
      "Brooklyn             2059\n",
      "Name: id, dtype: int64\n"
     ]
    },
    {
     "data": {
      "text/plain": [
       "<matplotlib.axes._subplots.AxesSubplot at 0x19e08095780>"
      ]
     },
     "execution_count": 19,
     "metadata": {},
     "output_type": "execute_result"
    },
    {
     "data": {
      "image/png": "[encoded data removed]",
      "text/plain": [
       "<Figure size 432x288 with 1 Axes>"
      ]
     },
     "metadata": {
      "needs_background": "light"
     },
     "output_type": "display_data"
    }
   ],
   "source": [
    "top5dropoffdistricts = df.groupby(by=\"dropoff_district\").count()[\"id\"].sort_values(ascending=False)[:5]\n",
    "print(top5dropoffdistricts)\n",
    "top5dropoffdistricts.plot(kind=\"bar\")"
   ]
  },
  {
   "cell_type": "code",
   "execution_count": 20,
   "metadata": {},
   "outputs": [],
   "source": [
    "def distance_calc (row):\n",
    "    pickup = (row['pickup_latitude'], row['pickup_longitude'])\n",
    "    dropoff = (row['dropoff_latitude'], row['dropoff_longitude'])\n",
    "\n",
    "    return geodesic(pickup, dropoff).meters\n"
   ]
  },
  {
   "cell_type": "code",
   "execution_count": 21,
   "metadata": {},
   "outputs": [],
   "source": [
    "df['distance'] = df.apply (lambda row: distance_calc (row),axis=1)"
   ]
  },
  {
   "cell_type": "code",
   "execution_count": 22,
   "metadata": {},
   "outputs": [
    {
     "data": {
      "text/plain": [
       "count    118185.000000\n",
       "mean       3397.738090\n",
       "std        3875.791608\n",
       "min           0.000000\n",
       "25%        1229.858820\n",
       "50%        2089.695422\n",
       "75%        3829.070783\n",
       "max       83662.680358\n",
       "Name: distance, dtype: float64"
      ]
     },
     "execution_count": 22,
     "metadata": {},
     "output_type": "execute_result"
    }
   ],
   "source": [
    "df[\"distance\"].describe()"
   ]
  },
  {
   "cell_type": "code",
   "execution_count": 23,
   "metadata": {},
   "outputs": [],
   "source": [
    "df['pickup_datetime'] = df['pickup_datetime'].apply(dateutil.parser.parse, dayfirst=True)\n",
    "df['time_of_day'] = pd.to_datetime(df['pickup_datetime'], format=\"%m/%d/%Y %I:%M\").dt.hour"
   ]
  },
  {
   "cell_type": "code",
   "execution_count": 24,
   "metadata": {},
   "outputs": [],
   "source": [
    "def assign_class(pickup_datetime):\n",
    "    \n",
    "    if pickup_datetime.hour >=7 and pickup_datetime.hour <9 :\n",
    "        return \"rush_hour_morning\"\n",
    "    elif pickup_datetime.hour>= 9 and pickup_datetime.hour<16:\n",
    "        return \"afternoon\"\n",
    "    elif pickup_datetime.hour>= 16 and pickup_datetime.hour<18:\n",
    "        return \"rush_hour_evening\"\n",
    "    elif pickup_datetime.hour>= 18 and pickup_datetime.hour<23:\n",
    "        return \"evening\"\n",
    "    else:\n",
    "        return \"late_night\"\n",
    "\n",
    "df[\"time_of_day\"] = df[\"pickup_datetime\"].apply(assign_class)"
   ]
  },
  {
   "cell_type": "code",
   "execution_count": 25,
   "metadata": {
    "scrolled": true
   },
   "outputs": [
    {
     "data": {
      "text/html": [
       "<div>\n",
       "<style scoped>\n",
       "    .dataframe tbody tr th:only-of-type {\n",
       "        vertical-align: middle;\n",
       "    }\n",
       "\n",
       "    .dataframe tbody tr th {\n",
       "        vertical-align: top;\n",
       "    }\n",
       "\n",
       "    .dataframe thead th {\n",
       "        text-align: right;\n",
       "    }\n",
       "</style>\n",
       "<table border=\"1\" class=\"dataframe\">\n",
       "  <thead>\n",
       "    <tr style=\"text-align: right;\">\n",
       "      <th></th>\n",
       "      <th>id</th>\n",
       "      <th>vendor_id</th>\n",
       "      <th>pickup_datetime</th>\n",
       "      <th>dropoff_datetime</th>\n",
       "      <th>passenger_count</th>\n",
       "      <th>pickup_longitude</th>\n",
       "      <th>pickup_latitude</th>\n",
       "      <th>dropoff_longitude</th>\n",
       "      <th>dropoff_latitude</th>\n",
       "      <th>store_and_fwd_flag</th>\n",
       "      <th>trip_duration</th>\n",
       "      <th>pickup_district</th>\n",
       "      <th>dropoff_district</th>\n",
       "      <th>distance</th>\n",
       "      <th>time_of_day</th>\n",
       "    </tr>\n",
       "  </thead>\n",
       "  <tbody>\n",
       "    <tr>\n",
       "      <th>0</th>\n",
       "      <td>id2875421</td>\n",
       "      <td>2</td>\n",
       "      <td>2016-03-14 17:24:00</td>\n",
       "      <td>3/14/2016 17:32</td>\n",
       "      <td>1</td>\n",
       "      <td>-73.982155</td>\n",
       "      <td>40.767937</td>\n",
       "      <td>-73.964630</td>\n",
       "      <td>40.765602</td>\n",
       "      <td>N</td>\n",
       "      <td>455</td>\n",
       "      <td>Manhattan</td>\n",
       "      <td>Manhattan</td>\n",
       "      <td>1502.172001</td>\n",
       "      <td>rush_hour_evening</td>\n",
       "    </tr>\n",
       "    <tr>\n",
       "      <th>1</th>\n",
       "      <td>id0012891</td>\n",
       "      <td>2</td>\n",
       "      <td>2016-10-03 21:45:00</td>\n",
       "      <td>3/10/2016 22:05</td>\n",
       "      <td>1</td>\n",
       "      <td>-73.981049</td>\n",
       "      <td>40.744339</td>\n",
       "      <td>-73.973000</td>\n",
       "      <td>40.789989</td>\n",
       "      <td>N</td>\n",
       "      <td>1225</td>\n",
       "      <td>Long Island City</td>\n",
       "      <td>Manhattan</td>\n",
       "      <td>5114.806496</td>\n",
       "      <td>evening</td>\n",
       "    </tr>\n",
       "    <tr>\n",
       "      <th>2</th>\n",
       "      <td>id3361153</td>\n",
       "      <td>1</td>\n",
       "      <td>2016-11-03 07:11:00</td>\n",
       "      <td>3/11/2016 7:20</td>\n",
       "      <td>1</td>\n",
       "      <td>-73.994560</td>\n",
       "      <td>40.750526</td>\n",
       "      <td>-73.978500</td>\n",
       "      <td>40.756191</td>\n",
       "      <td>N</td>\n",
       "      <td>526</td>\n",
       "      <td>Weehawken</td>\n",
       "      <td>Manhattan</td>\n",
       "      <td>1495.017735</td>\n",
       "      <td>rush_hour_morning</td>\n",
       "    </tr>\n",
       "    <tr>\n",
       "      <th>3</th>\n",
       "      <td>id2129090</td>\n",
       "      <td>1</td>\n",
       "      <td>2016-03-14 14:05:00</td>\n",
       "      <td>3/14/2016 14:28</td>\n",
       "      <td>1</td>\n",
       "      <td>-73.975090</td>\n",
       "      <td>40.758766</td>\n",
       "      <td>-73.953201</td>\n",
       "      <td>40.765068</td>\n",
       "      <td>N</td>\n",
       "      <td>1346</td>\n",
       "      <td>Manhattan</td>\n",
       "      <td>Long Island City</td>\n",
       "      <td>1976.279102</td>\n",
       "      <td>afternoon</td>\n",
       "    </tr>\n",
       "    <tr>\n",
       "      <th>4</th>\n",
       "      <td>id0256505</td>\n",
       "      <td>1</td>\n",
       "      <td>2016-03-14 15:04:00</td>\n",
       "      <td>3/14/2016 15:16</td>\n",
       "      <td>1</td>\n",
       "      <td>-73.994484</td>\n",
       "      <td>40.745087</td>\n",
       "      <td>-73.998993</td>\n",
       "      <td>40.722710</td>\n",
       "      <td>N</td>\n",
       "      <td>695</td>\n",
       "      <td>New York City</td>\n",
       "      <td>New York City</td>\n",
       "      <td>2513.960397</td>\n",
       "      <td>afternoon</td>\n",
       "    </tr>\n",
       "  </tbody>\n",
       "</table>\n",
       "</div>"
      ],
      "text/plain": [
       "          id  vendor_id     pickup_datetime dropoff_datetime  passenger_count  \\\n",
       "0  id2875421          2 2016-03-14 17:24:00  3/14/2016 17:32                1   \n",
       "1  id0012891          2 2016-10-03 21:45:00  3/10/2016 22:05                1   \n",
       "2  id3361153          1 2016-11-03 07:11:00   3/11/2016 7:20                1   \n",
       "3  id2129090          1 2016-03-14 14:05:00  3/14/2016 14:28                1   \n",
       "4  id0256505          1 2016-03-14 15:04:00  3/14/2016 15:16                1   \n",
       "\n",
       "   pickup_longitude  pickup_latitude  dropoff_longitude  dropoff_latitude  \\\n",
       "0        -73.982155        40.767937         -73.964630         40.765602   \n",
       "1        -73.981049        40.744339         -73.973000         40.789989   \n",
       "2        -73.994560        40.750526         -73.978500         40.756191   \n",
       "3        -73.975090        40.758766         -73.953201         40.765068   \n",
       "4        -73.994484        40.745087         -73.998993         40.722710   \n",
       "\n",
       "  store_and_fwd_flag  trip_duration   pickup_district  dropoff_district  \\\n",
       "0                  N            455         Manhattan         Manhattan   \n",
       "1                  N           1225  Long Island City         Manhattan   \n",
       "2                  N            526         Weehawken         Manhattan   \n",
       "3                  N           1346         Manhattan  Long Island City   \n",
       "4                  N            695     New York City     New York City   \n",
       "\n",
       "      distance        time_of_day  \n",
       "0  1502.172001  rush_hour_evening  \n",
       "1  5114.806496            evening  \n",
       "2  1495.017735  rush_hour_morning  \n",
       "3  1976.279102          afternoon  \n",
       "4  2513.960397          afternoon  "
      ]
     },
     "execution_count": 25,
     "metadata": {},
     "output_type": "execute_result"
    }
   ],
   "source": [
    "df.head()"
   ]
  },
  {
   "cell_type": "code",
   "execution_count": 26,
   "metadata": {},
   "outputs": [
    {
     "name": "stdout",
     "output_type": "stream",
     "text": [
      "time_of_day\n",
      "late_night           4117.634857\n",
      "evening              3378.135998\n",
      "rush_hour_evening    3342.814274\n",
      "rush_hour_morning    3128.279506\n",
      "afternoon            3109.985869\n",
      "Name: distance, dtype: float64\n"
     ]
    },
    {
     "data": {
      "text/plain": [
       "<matplotlib.axes._subplots.AxesSubplot at 0x19e05a66550>"
      ]
     },
     "execution_count": 26,
     "metadata": {},
     "output_type": "execute_result"
    },
    {
     "data": {
      "image/png": "[encoded data removed]",
      "text/plain": [
       "<Figure size 432x288 with 1 Axes>"
      ]
     },
     "metadata": {
      "needs_background": "light"
     },
     "output_type": "display_data"
    }
   ],
   "source": [
    "variation = df.groupby(by=\"time_of_day\").mean()[\"distance\"].sort_values(ascending=False)\n",
    "print(variation)\n",
    "plt.xlabel(\"Average distance in meters\")\n",
    "variation.plot(kind=\"barh\")"
   ]
  },
  {
   "cell_type": "code",
   "execution_count": 27,
   "metadata": {},
   "outputs": [
    {
     "name": "stdout",
     "output_type": "stream",
     "text": [
      "time_of_day\n",
      "rush_hour_evening    1024.494552\n",
      "afternoon             963.922746\n",
      "rush_hour_morning     918.488716\n",
      "evening               893.595329\n",
      "late_night            866.095457\n",
      "Name: trip_duration, dtype: float64\n"
     ]
    },
    {
     "data": {
      "text/plain": [
       "<matplotlib.axes._subplots.AxesSubplot at 0x19e05d40860>"
      ]
     },
     "execution_count": 27,
     "metadata": {},
     "output_type": "execute_result"
    },
    {
     "data": {
      "image/png": "[encoded data removed]",
      "text/plain": [
       "<Figure size 432x288 with 1 Axes>"
      ]
     },
     "metadata": {
      "needs_background": "light"
     },
     "output_type": "display_data"
    }
   ],
   "source": [
    "variationt =df.groupby(by=\"time_of_day\").mean()[\"trip_duration\"].sort_values(ascending=False)\n",
    "print(variationt)\n",
    "plt.xlabel(\"Average time traveled\")\n",
    "variationt.plot(kind=\"barh\")"
   ]
  },
  {
   "cell_type": "markdown",
   "metadata": {},
   "source": [
    "# PART 2"
   ]
  },
  {
   "cell_type": "code",
   "execution_count": 28,
   "metadata": {},
   "outputs": [
    {
     "data": {
      "text/plain": [
       "Text(0.5, 1.0, 'Average distance traveled in meters')"
      ]
     },
     "execution_count": 28,
     "metadata": {},
     "output_type": "execute_result"
    },
    {
     "data": {
      "image/png": "[encoded data removed]",
      "text/plain": [
       "<Figure size 720x360 with 1 Axes>"
      ]
     },
     "metadata": {
      "needs_background": "light"
     },
     "output_type": "display_data"
    }
   ],
   "source": [
    "df = df[df[\"passenger_count\"] != 0]\n",
    "cols = [\"distance\", \"passenger_count\"]\n",
    "\n",
    "fig, ax = plt.subplots(1, 1, figsize=(10,5))\n",
    "passengers= df.groupby(by=\"passenger_count\")\n",
    "averagepassenger = passengers[\"distance\"].mean() \n",
    "\n",
    "averagepassenger.plot(kind=\"bar\", label=\"Amount of Passenger\")\n",
    "ax.set_title(\"Average distance traveled in meters\")"
   ]
  },
  {
   "cell_type": "code",
   "execution_count": 29,
   "metadata": {},
   "outputs": [
    {
     "data": {
      "text/plain": [
       "0.016860947711050508"
      ]
     },
     "execution_count": 29,
     "metadata": {},
     "output_type": "execute_result"
    }
   ],
   "source": [
    "df[\"distance\"].corr(df[\"passenger_count\"],method='spearman')"
   ]
  },
  {
   "cell_type": "markdown",
   "metadata": {},
   "source": [
    "From the correlation value of 0.016 we can see that passenger count has no relation to the distance traveled so I would \n",
    "NOT reject the null hypothesis"
   ]
  },
  {
   "cell_type": "code",
   "execution_count": 30,
   "metadata": {},
   "outputs": [
    {
     "data": {
      "text/html": [
       "<div>\n",
       "<style scoped>\n",
       "    .dataframe tbody tr th:only-of-type {\n",
       "        vertical-align: middle;\n",
       "    }\n",
       "\n",
       "    .dataframe tbody tr th {\n",
       "        vertical-align: top;\n",
       "    }\n",
       "\n",
       "    .dataframe thead th {\n",
       "        text-align: right;\n",
       "    }\n",
       "</style>\n",
       "<table border=\"1\" class=\"dataframe\">\n",
       "  <thead>\n",
       "    <tr style=\"text-align: right;\">\n",
       "      <th></th>\n",
       "      <th>id</th>\n",
       "      <th>vendor_id</th>\n",
       "      <th>pickup_datetime</th>\n",
       "      <th>dropoff_datetime</th>\n",
       "      <th>passenger_count</th>\n",
       "      <th>pickup_longitude</th>\n",
       "      <th>pickup_latitude</th>\n",
       "      <th>dropoff_longitude</th>\n",
       "      <th>dropoff_latitude</th>\n",
       "      <th>store_and_fwd_flag</th>\n",
       "      <th>trip_duration</th>\n",
       "      <th>pickup_district</th>\n",
       "      <th>dropoff_district</th>\n",
       "      <th>distance</th>\n",
       "      <th>time_of_day</th>\n",
       "      <th>day_of_week</th>\n",
       "    </tr>\n",
       "  </thead>\n",
       "  <tbody>\n",
       "    <tr>\n",
       "      <th>0</th>\n",
       "      <td>id2875421</td>\n",
       "      <td>2</td>\n",
       "      <td>2016-03-14 17:24:00</td>\n",
       "      <td>3/14/2016 17:32</td>\n",
       "      <td>1</td>\n",
       "      <td>-73.982155</td>\n",
       "      <td>40.767937</td>\n",
       "      <td>-73.964630</td>\n",
       "      <td>40.765602</td>\n",
       "      <td>N</td>\n",
       "      <td>455</td>\n",
       "      <td>Manhattan</td>\n",
       "      <td>Manhattan</td>\n",
       "      <td>1502.172001</td>\n",
       "      <td>rush_hour_evening</td>\n",
       "      <td>0</td>\n",
       "    </tr>\n",
       "    <tr>\n",
       "      <th>1</th>\n",
       "      <td>id0012891</td>\n",
       "      <td>2</td>\n",
       "      <td>2016-10-03 21:45:00</td>\n",
       "      <td>3/10/2016 22:05</td>\n",
       "      <td>1</td>\n",
       "      <td>-73.981049</td>\n",
       "      <td>40.744339</td>\n",
       "      <td>-73.973000</td>\n",
       "      <td>40.789989</td>\n",
       "      <td>N</td>\n",
       "      <td>1225</td>\n",
       "      <td>Long Island City</td>\n",
       "      <td>Manhattan</td>\n",
       "      <td>5114.806496</td>\n",
       "      <td>evening</td>\n",
       "      <td>0</td>\n",
       "    </tr>\n",
       "    <tr>\n",
       "      <th>2</th>\n",
       "      <td>id3361153</td>\n",
       "      <td>1</td>\n",
       "      <td>2016-11-03 07:11:00</td>\n",
       "      <td>3/11/2016 7:20</td>\n",
       "      <td>1</td>\n",
       "      <td>-73.994560</td>\n",
       "      <td>40.750526</td>\n",
       "      <td>-73.978500</td>\n",
       "      <td>40.756191</td>\n",
       "      <td>N</td>\n",
       "      <td>526</td>\n",
       "      <td>Weehawken</td>\n",
       "      <td>Manhattan</td>\n",
       "      <td>1495.017735</td>\n",
       "      <td>rush_hour_morning</td>\n",
       "      <td>3</td>\n",
       "    </tr>\n",
       "    <tr>\n",
       "      <th>3</th>\n",
       "      <td>id2129090</td>\n",
       "      <td>1</td>\n",
       "      <td>2016-03-14 14:05:00</td>\n",
       "      <td>3/14/2016 14:28</td>\n",
       "      <td>1</td>\n",
       "      <td>-73.975090</td>\n",
       "      <td>40.758766</td>\n",
       "      <td>-73.953201</td>\n",
       "      <td>40.765068</td>\n",
       "      <td>N</td>\n",
       "      <td>1346</td>\n",
       "      <td>Manhattan</td>\n",
       "      <td>Long Island City</td>\n",
       "      <td>1976.279102</td>\n",
       "      <td>afternoon</td>\n",
       "      <td>0</td>\n",
       "    </tr>\n",
       "    <tr>\n",
       "      <th>4</th>\n",
       "      <td>id0256505</td>\n",
       "      <td>1</td>\n",
       "      <td>2016-03-14 15:04:00</td>\n",
       "      <td>3/14/2016 15:16</td>\n",
       "      <td>1</td>\n",
       "      <td>-73.994484</td>\n",
       "      <td>40.745087</td>\n",
       "      <td>-73.998993</td>\n",
       "      <td>40.722710</td>\n",
       "      <td>N</td>\n",
       "      <td>695</td>\n",
       "      <td>New York City</td>\n",
       "      <td>New York City</td>\n",
       "      <td>2513.960397</td>\n",
       "      <td>afternoon</td>\n",
       "      <td>0</td>\n",
       "    </tr>\n",
       "  </tbody>\n",
       "</table>\n",
       "</div>"
      ],
      "text/plain": [
       "          id  vendor_id     pickup_datetime dropoff_datetime  passenger_count  \\\n",
       "0  id2875421          2 2016-03-14 17:24:00  3/14/2016 17:32                1   \n",
       "1  id0012891          2 2016-10-03 21:45:00  3/10/2016 22:05                1   \n",
       "2  id3361153          1 2016-11-03 07:11:00   3/11/2016 7:20                1   \n",
       "3  id2129090          1 2016-03-14 14:05:00  3/14/2016 14:28                1   \n",
       "4  id0256505          1 2016-03-14 15:04:00  3/14/2016 15:16                1   \n",
       "\n",
       "   pickup_longitude  pickup_latitude  dropoff_longitude  dropoff_latitude  \\\n",
       "0        -73.982155        40.767937         -73.964630         40.765602   \n",
       "1        -73.981049        40.744339         -73.973000         40.789989   \n",
       "2        -73.994560        40.750526         -73.978500         40.756191   \n",
       "3        -73.975090        40.758766         -73.953201         40.765068   \n",
       "4        -73.994484        40.745087         -73.998993         40.722710   \n",
       "\n",
       "  store_and_fwd_flag  trip_duration   pickup_district  dropoff_district  \\\n",
       "0                  N            455         Manhattan         Manhattan   \n",
       "1                  N           1225  Long Island City         Manhattan   \n",
       "2                  N            526         Weehawken         Manhattan   \n",
       "3                  N           1346         Manhattan  Long Island City   \n",
       "4                  N            695     New York City     New York City   \n",
       "\n",
       "      distance        time_of_day  day_of_week  \n",
       "0  1502.172001  rush_hour_evening            0  \n",
       "1  5114.806496            evening            0  \n",
       "2  1495.017735  rush_hour_morning            3  \n",
       "3  1976.279102          afternoon            0  \n",
       "4  2513.960397          afternoon            0  "
      ]
     },
     "execution_count": 30,
     "metadata": {},
     "output_type": "execute_result"
    }
   ],
   "source": [
    "df['day_of_week'] = df['pickup_datetime'].dt.dayofweek\n",
    "df.head()"
   ]
  },
  {
   "cell_type": "code",
   "execution_count": 31,
   "metadata": {},
   "outputs": [
    {
     "data": {
      "text/plain": [
       "Text(0.5, 1.0, 'Average distance traveled in meters')"
      ]
     },
     "execution_count": 31,
     "metadata": {},
     "output_type": "execute_result"
    },
    {
     "data": {
      "image/png": "[encoded data removed]",
      "text/plain": [
       "<Figure size 720x360 with 1 Axes>"
      ]
     },
     "metadata": {
      "needs_background": "light"
     },
     "output_type": "display_data"
    }
   ],
   "source": [
    "cols = [\"distance\", \"day_of_week\"]\n",
    "\n",
    "fig, ax = plt.subplots(1, 1, figsize=(10,5))\n",
    "weekdays = df.groupby(by=\"day_of_week\")\n",
    "averageweek = weekdays[\"distance\"].mean() \n",
    "\n",
    "averageweek.plot(kind=\"bar\", label=\"Days of the Week\")\n",
    "ax.set_title(\"Average distance traveled in meters\")"
   ]
  },
  {
   "cell_type": "code",
   "execution_count": 32,
   "metadata": {},
   "outputs": [
    {
     "name": "stdout",
     "output_type": "stream",
     "text": [
      "day_of_week\n",
      "4    3718.008051\n",
      "6    3444.200335\n",
      "5    3423.638657\n",
      "0    3399.103786\n",
      "3    3341.449123\n",
      "2    3285.802127\n",
      "1    3217.269374\n",
      "Name: distance, dtype: float64\n"
     ]
    }
   ],
   "source": [
    "meanweek = df.groupby(by=\"day_of_week\").mean()[\"distance\"].sort_values(ascending=False)\n",
    "print(meanweek)"
   ]
  },
  {
   "cell_type": "code",
   "execution_count": 33,
   "metadata": {},
   "outputs": [],
   "source": [
    "df['Weekday1'] = (df[\"day_of_week\"] <5).astype(float) "
   ]
  },
  {
   "cell_type": "code",
   "execution_count": 34,
   "metadata": {},
   "outputs": [
    {
     "name": "stdout",
     "output_type": "stream",
     "text": [
      "3369.384568794219\n"
     ]
    }
   ],
   "source": [
    "Weekday = df.loc[df['day_of_week'] <5]\n",
    "Weekday_mean = Weekday['distance'].mean()\n",
    "print(Weekday_mean)"
   ]
  },
  {
   "cell_type": "code",
   "execution_count": 35,
   "metadata": {},
   "outputs": [
    {
     "name": "stdout",
     "output_type": "stream",
     "text": [
      "3436.9968004977814\n"
     ]
    }
   ],
   "source": [
    "Weekend = df.loc[df['day_of_week'] >4]\n",
    "Weekend_mean = Weekend['distance'].mean()\n",
    "print(Weekend_mean)"
   ]
  },
  {
   "cell_type": "code",
   "execution_count": 36,
   "metadata": {},
   "outputs": [
    {
     "data": {
      "text/plain": [
       "0.013421591389382335"
      ]
     },
     "execution_count": 36,
     "metadata": {},
     "output_type": "execute_result"
    }
   ],
   "source": [
    "df[\"day_of_week\"].corr(df[\"distance\"]) #Day of the week has no effect on the distance traveled"
   ]
  }
 ],
 "metadata": {
  "kernelspec": {
   "display_name": "Python 3",
   "language": "python",
   "name": "python3"
  },
  "language_info": {
   "codemirror_mode": {
    "name": "ipython",
    "version": 3
   },
   "file_extension": ".py",
   "mimetype": "text/x-python",
   "name": "python",
   "nbconvert_exporter": "python",
   "pygments_lexer": "ipython3",
   "version": "3.7.1"
  }
 },
 "nbformat": 4,
 "nbformat_minor": 2
}
